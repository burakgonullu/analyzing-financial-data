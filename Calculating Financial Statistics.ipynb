{
    "cells": [
        {
            "cell_type": "markdown",
            "metadata": {},
            "source": "# Net Present Value Analysis\n\nThe Net Present Value determines the present value of the future cash inflows and outflows over the life the project."
        },
        {
            "cell_type": "code",
            "execution_count": 1,
            "metadata": {},
            "outputs": [
                {
                    "data": {
                        "image/png": "[encoded data removed]",
                        "text/plain": "<Figure size 432x288 with 1 Axes>"
                    },
                    "metadata": {
                        "needs_background": "light"
                    },
                    "output_type": "display_data"
                }
            ],
            "source": "\nimport matplotlib.pyplot as plt\n\n# Update Project Greenspace Cash Flows Here\nproject_a = [-2000000, 0, 0, 250000, 250000, 500000, 500000, 750000, 750000, 1000000]\n\ndiscount_rate = [0.05, 0.055, 0.06, 0.065, 0.07, 0.075, 0.08, 0.085, 0.09, 0.095, 0.1, 0.105, 0.11, 0.115, 0.12, 0.125, 0.13, 0.135, 0.14, 0.145, 0.15]\n\ndef calculate_npv(rate, cash_flow):\n    npv = 0\n    for t in range(len(cash_flow)):\n        npv += cash_flow[t]/(1+rate)**t\n    return npv\n\nnpvs_a = list()\nfor rate in discount_rate:\n  npv_a = calculate_npv(rate,project_a)\n  npvs_a.append(npv_a)\n  \nplt.plot(discount_rate,npvs_a, linewidth = 3.0, color = \"green\", label = \"Project Greenspace\")\nplt.axhline(y=0, linewidth = 0.5, color = \"black\")\nplt.title('NPV Profile: Project Greenspace ')\nplt.xlabel('Discount Rate')\nplt.ylabel('Net Present Value')\nplt.legend()\nplt.show()"
        },
        {
            "cell_type": "markdown",
            "metadata": {},
            "source": "# Analyzing Stock Data\n\nYou will calculate the rates of return from this data, as well as other key statistics such as variance and correlation for assessing risk."
        },
        {
            "cell_type": "markdown",
            "metadata": {},
            "source": "## Utils"
        },
        {
            "cell_type": "code",
            "execution_count": 3,
            "metadata": {},
            "outputs": [],
            "source": "#utils \nfrom math import log, sqrt\n\n\n# Calculate Log Return\ndef calculate_log_return(start_price, end_price):\n  return log(end_price / start_price)\n\n\n# Calculate Variance\ndef calculate_variance(dataset):\n  mean = sum(dataset) / len(dataset)\n\n  numerator = 0\n\n  for data in dataset:\n    numerator += (data - mean) ** 2\n\n  return numerator / len(dataset)\n\n\n# Calculate Standard Deviation\ndef calculate_stddev(dataset):\n  variance = calculate_variance(dataset)\n  return sqrt(variance)\n\n\n# Calculate Correlation Coefficient\ndef calculate_correlation(set_x, set_y):\n  sum_x = sum(set_x)\n  sum_y = sum(set_y)\n\n  sum_x2 = sum([x ** 2 for x in set_x])\n  sum_y2 = sum([y ** 2 for y in set_y])\n\n  sum_xy = sum([x * y for x, y in zip(set_x, set_y)])\n\n  n = len(set_x)\n\n  numerator = n * sum_xy - sum_x * sum_y\n  denominator = sqrt((n * sum_x2 - sum_x ** 2) * (n * sum_y2 - sum_y ** 2))\n\n  return numerator / denominator"
        },
        {
            "cell_type": "code",
            "execution_count": 4,
            "metadata": {},
            "outputs": [],
            "source": "def display_as_percentage(val):\n  return '{:.1f}%'.format(val * 100)\n\namazon_prices = [1699.8, 1777.44, 2012.71, 2003.0, 1598.01, 1690.17, 1501.97, 1718.73, 1639.83, 1780.75, 1926.52, 1775.07, 1893.63]\nebay_prices = [35.98, 33.2, 34.35, 32.77, 28.81, 29.62, 27.86, 33.39, 37.01, 37.0, 38.6, 35.93, 39.5]"
        },
        {
            "cell_type": "markdown",
            "metadata": {},
            "source": "## Calculating Rate of Return"
        },
        {
            "cell_type": "code",
            "execution_count": 16,
            "metadata": {},
            "outputs": [],
            "source": "def get_returns(prices):\n  returns = []\n  for i in range(len(prices)-1):\n    start_price = prices[i]\n    end_price = prices[i+1]\n    return_rate = calculate_log_return(start_price, end_price)\n    returns.append(return_rate)\n  return returns"
        },
        {
            "cell_type": "code",
            "execution_count": 20,
            "metadata": {},
            "outputs": [
                {
                    "data": {
                        "text/plain": "([0.044663529768886545,\n  0.12430794584153733,\n  -0.004836016009131401,\n  -0.22588695153690044,\n  0.056070010445170376,\n  -0.11805153581831997,\n  0.13480806622777397,\n  -0.046993068074800755,\n  0.082442045949722,\n  0.07868064267475429,\n  -0.0818754077815861,\n  0.06465576316168306],\n [-0.080413352599944,\n  0.034052142745915476,\n  -0.04708855595763511,\n  -0.1287909136142863,\n  0.02772725974321574,\n  -0.061257840487993175,\n  0.18106448560390354,\n  0.10293169244250136,\n  -0.00027023375384007574,\n  0.042334363826560736,\n  -0.07167967534535787,\n  0.09472807078164892])"
                    },
                    "execution_count": 20,
                    "metadata": {},
                    "output_type": "execute_result"
                }
            ],
            "source": "amazon_returns = get_returns(amazon_prices)\nebay_returns = get_returns(ebay_prices)\namazon_returns, ebay_returns"
        },
        {
            "cell_type": "code",
            "execution_count": 22,
            "metadata": {},
            "outputs": [
                {
                    "data": {
                        "text/plain": "(['4.5%',\n  '12.4%',\n  '-0.5%',\n  '-22.6%',\n  '5.6%',\n  '-11.8%',\n  '13.5%',\n  '-4.7%',\n  '8.2%',\n  '7.9%',\n  '-8.2%',\n  '6.5%'],\n ['-8.0%',\n  '3.4%',\n  '-4.7%',\n  '-12.9%',\n  '2.8%',\n  '-6.1%',\n  '18.1%',\n  '10.3%',\n  '-0.0%',\n  '4.2%',\n  '-7.2%',\n  '9.5%'])"
                    },
                    "execution_count": 22,
                    "metadata": {},
                    "output_type": "execute_result"
                }
            ],
            "source": "amazon_percentage = [display_as_percentage(i) for i in amazon_returns]\nebay_percentage = [display_as_percentage(i) for i in ebay_returns]\namazon_percentage, ebay_percentage"
        },
        {
            "cell_type": "code",
            "execution_count": 25,
            "metadata": {},
            "outputs": [
                {
                    "data": {
                        "text/plain": "('10.8%', '9.3%')"
                    },
                    "execution_count": 25,
                    "metadata": {},
                    "output_type": "execute_result"
                }
            ],
            "source": "display_as_percentage(sum(amazon_returns)), display_as_percentage(sum(ebay_returns))"
        },
        {
            "cell_type": "markdown",
            "metadata": {},
            "source": "We can see that Amazon\u2019s annual return is slightly higher than eBay\u2019s annual return."
        },
        {
            "cell_type": "markdown",
            "metadata": {},
            "source": "## Assessing Investment Risk"
        },
        {
            "cell_type": "code",
            "execution_count": 26,
            "metadata": {},
            "outputs": [
                {
                    "data": {
                        "text/plain": "(0.010738060556609724, 0.007459046435081462)"
                    },
                    "execution_count": 26,
                    "metadata": {},
                    "output_type": "execute_result"
                }
            ],
            "source": "calculate_variance(amazon_returns), calculate_variance(ebay_returns)"
        },
        {
            "cell_type": "markdown",
            "metadata": {},
            "source": "The variance for Amazon\u2019s monthly returns is slightly higher than eBay\u2019s. A greater variance generally signifies a riskier investment."
        },
        {
            "cell_type": "code",
            "execution_count": 31,
            "metadata": {},
            "outputs": [
                {
                    "data": {
                        "text/plain": "('10.4%', '8.6%')"
                    },
                    "execution_count": 31,
                    "metadata": {},
                    "output_type": "execute_result"
                }
            ],
            "source": "display_as_percentage(calculate_stddev(amazon_returns)), display_as_percentage(calculate_stddev(ebay_returns))"
        },
        {
            "cell_type": "markdown",
            "metadata": {},
            "source": "Amazon\u2019s monthly returns have a greater standard deviation than eBay\u2019s. As we\u2019ve already seen previously, investing in Amazon stock is likely riskier.\n\nIt is worthwhile to note again that Amazon also has the higher rate of return. This demonstrates the risk-return tradeoff that often exists in investments."
        },
        {
            "cell_type": "code",
            "execution_count": 32,
            "metadata": {},
            "outputs": [
                {
                    "data": {
                        "text/plain": "0.6776978564073072"
                    },
                    "execution_count": 32,
                    "metadata": {},
                    "output_type": "execute_result"
                }
            ],
            "source": "calculate_correlation(amazon_returns, ebay_returns)"
        },
        {
            "cell_type": "markdown",
            "metadata": {},
            "source": "The correlation coefficient between Amazon and eBay stock returns is around 0.67, so there is a moderate positive correlation. Stocks from the same industry tend to have a positive correlation because they are affected by similar external conditions.\n\nWe should be careful about investing in highly correlated stocks to avoid putting all our eggs in one basket, so to speak. Instead, it is wise to invest in uncorrelated stocks, such that a loss in one does not automatically mean a loss in the other. This diversifies the investment portfolio and reduces overall risk."
        },
        {
            "cell_type": "code",
            "execution_count": null,
            "metadata": {},
            "outputs": [],
            "source": ""
        }
    ],
    "metadata": {
        "kernelspec": {
            "display_name": "Python 3.8",
            "language": "python",
            "name": "python3"
        },
        "language_info": {
            "codemirror_mode": {
                "name": "ipython",
                "version": 3
            },
            "file_extension": ".py",
            "mimetype": "text/x-python",
            "name": "python",
            "nbconvert_exporter": "python",
            "pygments_lexer": "ipython3",
            "version": "3.8.12"
        }
    },
    "nbformat": 4,
    "nbformat_minor": 1
}